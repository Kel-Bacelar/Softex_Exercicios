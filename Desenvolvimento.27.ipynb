{
 "cells": [
  {
   "cell_type": "code",
   "execution_count": null,
   "metadata": {},
   "outputs": [],
   "source": [
    "\n",
    "\n",
    "\n",
    "\n",
    "from sqlite3 import Date\n",
    "\n",
    "\n",
    "anoatual = Date.today()\n",
    "ano = True\n",
    "while(ano):\n",
    "    try:\n",
    "        nascimento = int(input(\"Digite o ano do seu nascimento:\")) \n",
    "        if nascimento > 1899 and nascimento < anoatual.year:\n",
    "            suaIdade = anoatual.year - nascimento\n",
    "            print(\"Idade em\",anoatual.year,\":\", suaIdade)\n",
    "            ano = False\n",
    "    except:\n",
    "        print(\"Valor inválido\")\n",
    "\n",
    "\n",
    "Desenvolvimento 26.txt\n",
    "Exibindo Desenvolvimento 26.txt…"
   ]
  }
 ],
 "metadata": {
  "language_info": {
   "name": "python"
  },
  "orig_nbformat": 4
 },
 "nbformat": 4,
 "nbformat_minor": 2
}
