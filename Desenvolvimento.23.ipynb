{
 "cells": [
  {
   "cell_type": "code",
   "execution_count": null,
   "metadata": {},
   "outputs": [],
   "source": [
    "class Aluno():\n",
    "    def __init__(self, nome, matricula):\n",
    "        self.nome = nome\n",
    "        self.matricula = matricula\n",
    "\n",
    "    def getNome(self):\n",
    "        return self.nome\n",
    "    \n",
    "    def setNome(self, nome):\n",
    "        self.nome = nome\n",
    "\n",
    "    def getMatricula(self):\n",
    "        return self.matricula\n",
    "    \n",
    "    def setMatricula(self, matricula):\n",
    "        self.matricula = matricula\n",
    "\n",
    "aluno = Aluno(\"\",\"\")\n",
    "\n",
    "nomeAluno = input(\"Digite o nome do Aluno:\")\n",
    "aluno.setNome(nomeAluno)\n",
    "matriculaAluno = int(input(\"Digite a matricula:\"))\n",
    "aluno.setMatricula(matriculaAluno)\n",
    "\n",
    "print(\"\\nNome do aluno:\", aluno.getNome(), \"\\nMatrícula:\", aluno.getMatricula(),\"\\n\");"
   ]
  }
 ],
 "metadata": {
  "language_info": {
   "name": "python"
  },
  "orig_nbformat": 4
 },
 "nbformat": 4,
 "nbformat_minor": 2
}
