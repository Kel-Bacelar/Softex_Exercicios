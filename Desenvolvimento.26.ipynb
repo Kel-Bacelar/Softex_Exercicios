{
 "cells": [
  {
   "cell_type": "code",
   "execution_count": null,
   "metadata": {},
   "outputs": [],
   "source": [
    "import pickle\n",
    "\n",
    "\n",
    "class Produtos:\n",
    "\tdef __init__(self, codigo, preco):\n",
    "\t\tself.codigo = codigo\n",
    "\t\tself.preco = preco\n",
    "\n",
    "produto = Produtos(\"EV110\", 99.90)\n",
    "\n",
    "prod = open('D:\\Cursos\\Python\\produtos.pkl', 'wb') \n",
    "pickle.dump(produto, prod) #serialização\n",
    "\n",
    "\n",
    "prod = open('D:\\Cursos\\Python\\produtos.pkl', 'rb') \n",
    "saida = pickle.load(prod) #desserialização\n",
    "\n",
    "\n",
    "print(saida.codigo, saida.preco) #Imprimindo Valores desserializados\n"
   ]
  }
 ],
 "metadata": {
  "language_info": {
   "name": "python"
  },
  "orig_nbformat": 4
 },
 "nbformat": 4,
 "nbformat_minor": 2
}
